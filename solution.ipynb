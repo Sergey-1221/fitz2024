{
 "cells": [
  {
   "cell_type": "code",
   "id": "initial_id",
   "metadata": {
    "collapsed": true,
    "ExecuteTime": {
     "end_time": "2024-12-01T18:32:09.196790Z",
     "start_time": "2024-12-01T18:32:04.843021Z"
    }
   },
   "source": [
    "# Импорт необходимых библиотек\n",
    "import torch\n",
    "from sentence_transformers import SentenceTransformer\n",
    "from sklearn.metrics.pairwise import cosine_similarity\n",
    "import networkx as nx\n",
    "import nltk\n",
    "import re\n",
    "import matplotlib.pyplot as plt\n",
    "from matplotlib.cm import get_cmap\n",
    "import numpy as np\n",
    "from sklearn.neighbors import NearestNeighbors\n",
    "from transformers import AutoModelForCausalLM, AutoTokenizer, GenerationConfig\n",
    "\n",
    "# Загрузка необходимых данных для nltk\n",
    "nltk.download('punkt')\n",
    "\n",
    "# Текст для обработки\n",
    "text = \"\"\"\n",
    "Машинное обучение продолжает преобразовывать подходы к обработке текстов, предоставляя инструменты для анализа больших объемов данных. Современные алгоритмы, такие как трансформеры, позволяют выявлять глубокие смысловые связи в тексте, делая возможным его использование в различных приложениях.\n",
    "\n",
    "Технологии обработки естественного языка активно применяются в чат-ботах, системах автоматического перевода и анализе тональности. Например, нейронные сети способны находить скрытые закономерности в текстах, улучшая качество взаимодействия между человеком и машиной.\n",
    "\n",
    "Тем не менее, создание эффективных моделей требует значительных ресурсов. Обучение глубоких нейронных сетей связано с обработкой больших объемов данных и необходимостью использования мощных вычислительных кластеров для достижения высокой производительности.\n",
    "\n",
    "Одной из ключевых задач в области текстовой аналитики остается интерпретируемость моделей. Использование внимания в трансформерах не только улучшает точность анализа, но и позволяет понять, какие части текста играют наиболее важную роль при принятии решений.\n",
    "\n",
    "Интеграция методов обработки текста с другими областями, такими как компьютерное зрение и анализ аудио, открывает путь к созданию мультимодальных систем. Такие подходы используются для генерации контента, автоматической модерации и других задач, требующих обработки сложных данных.\n",
    "\n",
    "Будущее обработки естественного языка обещает еще более глубокую интеграцию ИИ в повседневную жизнь. Системы станут не просто инструментами, а полноценными интеллектуальными помощниками, способными воспринимать и обрабатывать информацию так же эффективно, как это делает человек.\n",
    "\"\"\"\n",
    "\n",
    "# Параметр для ограничения контекста по количеству символов в каждом контексте\n",
    "context_char_limit = 500  # Максимальное количество символов в одном контексте\n"
   ],
   "outputs": [
    {
     "name": "stderr",
     "output_type": "stream",
     "text": [
      "[nltk_data] Downloading package punkt to\n",
      "[nltk_data]     C:\\Users\\Sergey\\AppData\\Roaming\\nltk_data...\n",
      "[nltk_data]   Package punkt is already up-to-date!\n"
     ]
    }
   ],
   "execution_count": 1
  },
  {
   "metadata": {
    "ExecuteTime": {
     "end_time": "2024-12-01T18:32:09.204422Z",
     "start_time": "2024-12-01T18:32:09.201797Z"
    }
   },
   "cell_type": "code",
   "source": [
    "# Шаг 1: Разбиение текста на абзацы\n",
    "paragraphs = re.split(r'\\n\\s*\\n', text.strip())"
   ],
   "id": "e2d8e3126ede6e46",
   "outputs": [],
   "execution_count": 2
  },
  {
   "metadata": {
    "ExecuteTime": {
     "end_time": "2024-12-01T18:32:09.327230Z",
     "start_time": "2024-12-01T18:32:09.248475Z"
    }
   },
   "cell_type": "code",
   "source": [
    "# Шаг 2: Разбиение абзацев на предложения и получение позиций предложений в тексте\n",
    "sentences = []\n",
    "sentence_paragraph_mapping = []\n",
    "sentence_positions = []\n",
    "\n",
    "current_pos = 0  # Текущая позиция в тексте\n",
    "\n",
    "for para_idx, paragraph in enumerate(paragraphs):\n",
    "    para_sentences = nltk.sent_tokenize(paragraph)\n",
    "    for sent in para_sentences:\n",
    "        # Найти позицию предложения в тексте\n",
    "        start_idx = text.find(sent, current_pos)\n",
    "        end_idx = start_idx + len(sent)\n",
    "        sentences.append(sent)\n",
    "        sentence_paragraph_mapping.append(para_idx)\n",
    "        sentence_positions.append((start_idx, end_idx))\n",
    "        current_pos = end_idx  # Обновить текущую позицию"
   ],
   "id": "8be3cabc50a9f6dd",
   "outputs": [],
   "execution_count": 3
  },
  {
   "metadata": {
    "ExecuteTime": {
     "end_time": "2024-12-01T18:32:21.126288Z",
     "start_time": "2024-12-01T18:32:17.366911Z"
    }
   },
   "cell_type": "code",
   "source": [
    "# Шаг 3: Вычисление эмбеддингов предложений\n",
    "model = SentenceTransformer(\"ai-forever/ru-en-RoSBERTa\")\n",
    "sentence_embeddings = model.encode(sentences)\n",
    "\n",
    "# Шаг 4: Вычисление матрицы семантического сходства\n",
    "similarity_matrix = cosine_similarity(sentence_embeddings)"
   ],
   "id": "4c2f08c155b05dc0",
   "outputs": [
    {
     "name": "stderr",
     "output_type": "stream",
     "text": [
      "Some weights of RobertaModel were not initialized from the model checkpoint at ai-forever/ru-en-RoSBERTa and are newly initialized: ['pooler.dense.bias', 'pooler.dense.weight']\n",
      "You should probably TRAIN this model on a down-stream task to be able to use it for predictions and inference.\n"
     ]
    }
   ],
   "execution_count": 5
  },
  {
   "metadata": {
    "ExecuteTime": {
     "end_time": "2024-12-01T18:32:21.135920Z",
     "start_time": "2024-12-01T18:32:21.133093Z"
    }
   },
   "cell_type": "code",
   "source": [
    "# Шаг 5: Построение графа связности с учетом ограничения по абзацам\n",
    "G = nx.Graph()\n",
    "\n",
    "# Добавление узлов в граф\n",
    "for idx, sentence in enumerate(sentences):\n",
    "    paragraph_idx = sentence_paragraph_mapping[idx]\n",
    "    G.add_node(idx, sentence=sentence, paragraph=paragraph_idx)\n",
    "\n",
    "# Добавление ребер с весами в граф с учетом ближайших абзацев\n",
    "num_sentences = len(sentences)\n",
    "for i in range(num_sentences):\n",
    "    para_i = sentence_paragraph_mapping[i]\n",
    "    for j in range(i + 1, num_sentences):\n",
    "        para_j = sentence_paragraph_mapping[j]\n",
    "        # Проверяем, находятся ли предложения в том же или соседних абзацах\n",
    "        if abs(para_i - para_j) <= 1:\n",
    "            similarity = similarity_matrix[i][j]\n",
    "            # Устанавливаем порог сходства для создания ребра\n",
    "            if similarity > 0.5:\n",
    "                G.add_edge(i, j, weight=similarity)"
   ],
   "id": "6ee169a7ab4c72ae",
   "outputs": [],
   "execution_count": 6
  },
  {
   "metadata": {
    "ExecuteTime": {
     "end_time": "2024-12-01T18:32:21.145573Z",
     "start_time": "2024-12-01T18:32:21.143367Z"
    }
   },
   "cell_type": "code",
   "source": [
    "# Шаг 6: Получение связных компонент графа (контекстов)\n",
    "contexts = []\n",
    "for component in nx.connected_components(G):\n",
    "    contexts.append(component)"
   ],
   "id": "b2e8e0f14f0bb830",
   "outputs": [],
   "execution_count": 7
  },
  {
   "metadata": {
    "ExecuteTime": {
     "end_time": "2024-12-01T18:32:21.155934Z",
     "start_time": "2024-12-01T18:32:21.151765Z"
    }
   },
   "cell_type": "code",
   "source": [
    "\n",
    "# Шаг 7: Ограничение контекстов по количеству символов\n",
    "final_contexts = []\n",
    "for component in contexts:\n",
    "    # Получаем список предложений в компоненте\n",
    "    component_sentences = [sentences[idx] for idx in component]\n",
    "    # Вычисляем общий размер компоненты в символах\n",
    "    total_chars = sum(len(sent) for sent in component_sentences)\n",
    "    if total_chars <= context_char_limit:\n",
    "        final_contexts.append((component, component_sentences))\n",
    "    else:\n",
    "        # Если компонент слишком большой, разбиваем его на меньшие контексты\n",
    "        sorted_indices = sorted(component, key=lambda x: sentence_positions[x][0])\n",
    "        temp_context = []\n",
    "        temp_indices = []\n",
    "        temp_chars = 0\n",
    "        for idx in sorted_indices:\n",
    "            sent = sentences[idx]\n",
    "            sent_length = len(sent)\n",
    "            if temp_chars + sent_length <= context_char_limit:\n",
    "                temp_context.append(sent)\n",
    "                temp_indices.append(idx)\n",
    "                temp_chars += sent_length\n",
    "            else:\n",
    "                if temp_context:\n",
    "                    final_contexts.append((set(temp_indices), temp_context))\n",
    "                temp_context = [sent]\n",
    "                temp_indices = [idx]\n",
    "                temp_chars = sent_length\n",
    "        if temp_context:\n",
    "            final_contexts.append((set(temp_indices), temp_context))\n",
    "\n",
    "print(final_contexts)"
   ],
   "id": "181f31a67a4d5a5b",
   "outputs": [
    {
     "name": "stdout",
     "output_type": "stream",
     "text": [
      "[({0, 1, 2}, ['Машинное обучение продолжает преобразовывать подходы к обработке текстов, предоставляя инструменты для анализа больших объемов данных.', 'Современные алгоритмы, такие как трансформеры, позволяют выявлять глубокие смысловые связи в тексте, делая возможным его использование в различных приложениях.', 'Технологии обработки естественного языка активно применяются в чат-ботах, системах автоматического перевода и анализе тональности.']), ({3, 4, 5, 6}, ['Например, нейронные сети способны находить скрытые закономерности в текстах, улучшая качество взаимодействия между человеком и машиной.', 'Тем не менее, создание эффективных моделей требует значительных ресурсов.', 'Обучение глубоких нейронных сетей связано с обработкой больших объемов данных и необходимостью использования мощных вычислительных кластеров для достижения высокой производительности.', 'Одной из ключевых задач в области текстовой аналитики остается интерпретируемость моделей.']), ({8, 9, 7}, ['Использование внимания в трансформерах не только улучшает точность анализа, но и позволяет понять, какие части текста играют наиболее важную роль при принятии решений.', 'Интеграция методов обработки текста с другими областями, такими как компьютерное зрение и анализ аудио, открывает путь к созданию мультимодальных систем.', 'Такие подходы используются для генерации контента, автоматической модерации и других задач, требующих обработки сложных данных.']), ({10, 11}, ['Будущее обработки естественного языка обещает еще более глубокую интеграцию ИИ в повседневную жизнь.', 'Системы станут не просто инструментами, а полноценными интеллектуальными помощниками, способными воспринимать и обрабатывать информацию так же эффективно, как это делает человек.'])]\n"
     ]
    }
   ],
   "execution_count": 8
  },
  {
   "metadata": {
    "ExecuteTime": {
     "end_time": "2024-12-01T18:32:21.224248Z",
     "start_time": "2024-12-01T18:32:21.166628Z"
    }
   },
   "cell_type": "code",
   "source": [
    "# Шаг 8: Визуализация графа с контекстами\n",
    "# Создаем цветовую карту для разных контекстов\n",
    "num_contexts = len(final_contexts)\n",
    "color_map = get_cmap('tab20')\n",
    "context_colors = {}\n",
    "\n",
    "for idx, (component_indices, _) in enumerate(final_contexts):\n",
    "    color = color_map(idx % 20)\n",
    "    for node_idx in component_indices:\n",
    "        context_colors[node_idx] = color\n",
    "\n",
    "# Позиции узлов для визуализации\n",
    "pos = nx.spring_layout(G, seed=42)  # Можно использовать другие алгоритмы размещения\n",
    "\n",
    "# Рисуем узлы\n",
    "node_colors = [context_colors.get(node, (0.5, 0.5, 0.5)) for node in G.nodes()]\n",
    "nx.draw_networkx_nodes(G, pos, node_color=node_colors, node_size=500)\n",
    "\n",
    "# Рисуем ребра\n",
    "edges = G.edges()\n",
    "weights = [G[u][v]['weight'] for u, v in edges]\n",
    "nx.draw_networkx_edges(G, pos, edgelist=edges, width=1)\n",
    "\n",
    "# Добавляем подписи к узлам (можно использовать предложения или индексы)\n",
    "labels = {idx: idx for idx in G.nodes()}\n",
    "nx.draw_networkx_labels(G, pos, labels, font_size=8)\n",
    "\n",
    "plt.axis('off')\n",
    "plt.show()\n",
    "\n",
    "# Вывод контекстов\n",
    "print(\"Контексты:\")\n",
    "for idx, (_, context) in enumerate(final_contexts):\n",
    "    print(f\"\\nКонтекст {idx + 1}:\")\n",
    "    for sent in context:\n",
    "        print(f\"- {sent}\")"
   ],
   "id": "fc266d1ccf048593",
   "outputs": [
    {
     "name": "stderr",
     "output_type": "stream",
     "text": [
      "C:\\Users\\Sergey\\AppData\\Local\\Temp\\ipykernel_4500\\2106359504.py:4: MatplotlibDeprecationWarning: The get_cmap function was deprecated in Matplotlib 3.7 and will be removed in 3.11. Use ``matplotlib.colormaps[name]`` or ``matplotlib.colormaps.get_cmap()`` or ``pyplot.get_cmap()`` instead.\n",
      "  color_map = get_cmap('tab20')\n"
     ]
    },
    {
     "data": {
      "text/plain": [
       "<Figure size 640x480 with 1 Axes>"
      ],
      "image/png": "[encoded data removed]"
     },
     "metadata": {},
     "output_type": "display_data"
    },
    {
     "name": "stdout",
     "output_type": "stream",
     "text": [
      "Контексты:\n",
      "\n",
      "Контекст 1:\n",
      "- Машинное обучение продолжает преобразовывать подходы к обработке текстов, предоставляя инструменты для анализа больших объемов данных.\n",
      "- Современные алгоритмы, такие как трансформеры, позволяют выявлять глубокие смысловые связи в тексте, делая возможным его использование в различных приложениях.\n",
      "- Технологии обработки естественного языка активно применяются в чат-ботах, системах автоматического перевода и анализе тональности.\n",
      "\n",
      "Контекст 2:\n",
      "- Например, нейронные сети способны находить скрытые закономерности в текстах, улучшая качество взаимодействия между человеком и машиной.\n",
      "- Тем не менее, создание эффективных моделей требует значительных ресурсов.\n",
      "- Обучение глубоких нейронных сетей связано с обработкой больших объемов данных и необходимостью использования мощных вычислительных кластеров для достижения высокой производительности.\n",
      "- Одной из ключевых задач в области текстовой аналитики остается интерпретируемость моделей.\n",
      "\n",
      "Контекст 3:\n",
      "- Использование внимания в трансформерах не только улучшает точность анализа, но и позволяет понять, какие части текста играют наиболее важную роль при принятии решений.\n",
      "- Интеграция методов обработки текста с другими областями, такими как компьютерное зрение и анализ аудио, открывает путь к созданию мультимодальных систем.\n",
      "- Такие подходы используются для генерации контента, автоматической модерации и других задач, требующих обработки сложных данных.\n",
      "\n",
      "Контекст 4:\n",
      "- Будущее обработки естественного языка обещает еще более глубокую интеграцию ИИ в повседневную жизнь.\n",
      "- Системы станут не просто инструментами, а полноценными интеллектуальными помощниками, способными воспринимать и обрабатывать информацию так же эффективно, как это делает человек.\n"
     ]
    }
   ],
   "execution_count": 9
  },
  {
   "metadata": {
    "ExecuteTime": {
     "end_time": "2024-12-01T18:32:21.234471Z",
     "start_time": "2024-12-01T18:32:21.232248Z"
    }
   },
   "cell_type": "code",
   "source": [
    "# Bonus, дает +30-50% к качеству\n",
    "# Шаг 9: Обработка контекстов с использованием модели \"IlyaGusev/saiga_llama3_8b\""
   ],
   "id": "76c548aea7a0f105",
   "outputs": [],
   "execution_count": 10
  },
  {
   "metadata": {},
   "cell_type": "markdown",
   "source": "",
   "id": "489688feb47dcb5f"
  },
  {
   "metadata": {
    "ExecuteTime": {
     "end_time": "2024-12-01T18:32:52.615523Z",
     "start_time": "2024-12-01T18:32:21.248348Z"
    }
   },
   "cell_type": "code",
   "source": [
    "\n",
    "\n",
    "# Подготовка данных для обработки\n",
    "context_texts = [' '.join(context[1]) for context in final_contexts]\n",
    "\n",
    "# Инициализация модели и токенизатора\n",
    "import torch\n",
    "from transformers import AutoModelForCausalLM, AutoTokenizer, GenerationConfig\n",
    "\n",
    "MODEL_NAME = \"IlyaGusev/saiga_llama3_8b\"\n",
    "\n",
    "model = AutoModelForCausalLM.from_pretrained(\n",
    "    MODEL_NAME,\n",
    "    load_in_4bit=True,\n",
    "    torch_dtype=torch.bfloat16,\n",
    "    device_map=\"auto\"\n",
    ")\n",
    "model.eval()\n",
    "\n",
    "tokenizer = AutoTokenizer.from_pretrained(MODEL_NAME)\n",
    "generation_config = GenerationConfig.from_pretrained(MODEL_NAME)\n",
    "\n",
    "# Функция генерации описания контекста\n",
    "def generate_context_summary(context_text):\n",
    "    prompt = f\"\\nКратко опишите следующий текст:\\n{context_text}\\nОписание:\"\n",
    "    inputs = tokenizer(\n",
    "        prompt,\n",
    "        return_tensors='pt',\n",
    "        add_special_tokens=False\n",
    "    ).to(model.device)\n",
    "\n",
    "    with torch.no_grad():\n",
    "        outputs = model.generate(\n",
    "            **inputs,\n",
    "            max_new_tokens=70,\n",
    "            num_return_sequences=1,\n",
    "            no_repeat_ngram_size=2,\n",
    "            do_sample=True,\n",
    "            top_p=0.9,\n",
    "            top_k=50,\n",
    "            temperature=1.0,\n",
    "            eos_token_id=tokenizer.eos_token_id,\n",
    "            pad_token_id=tokenizer.eos_token_id,\n",
    "        )\n",
    "    summary = tokenizer.decode(outputs[0], skip_special_tokens=True)\n",
    "    # Извлекаем только сгенерированное описание\n",
    "    if 'Описание:' in summary:\n",
    "        summary = summary.split('Описание:')[-1].strip()\n",
    "    else:\n",
    "        summary = summary.strip()\n",
    "    return summary\n",
    "\n",
    "# Генерация описаний для контекстов\n",
    "context_summaries = []\n",
    "for context_text in context_texts:\n",
    "    summary = generate_context_summary(context_text)\n",
    "    context_summaries.append(summary)\n",
    "\n",
    "busted_contexts = []\n",
    "for i in range(len(context_summaries)):\n",
    "    print(context_summaries[i]+\"\\n\\n\"+final_contexts[i])\n",
    "    busted_contexts.append(context_summaries[i]+\"\\n\\n\"+final_contexts[i])\n",
    "# Вывод контекстов\n",
    "print(\"Контексты:\")\n",
    "for idx, (_, context) in enumerate(busted_contexts):\n",
    "    print(f\"\\nКонтекст {idx + 1}:\")\n",
    "    for sent in context:\n",
    "        print(f\"- {sent}\")\n"
   ],
   "id": "a58d1ca356b40f",
   "outputs": [
    {
     "name": "stderr",
     "output_type": "stream",
     "text": [
      "The `load_in_4bit` and `load_in_8bit` arguments are deprecated and will be removed in the future versions. Please, pass a `BitsAndBytesConfig` object in `quantization_config` argument instead.\n"
     ]
    },
    {
     "data": {
      "text/plain": [
       "Loading checkpoint shards:   0%|          | 0/4 [00:00<?, ?it/s]"
      ],
      "application/vnd.jupyter.widget-view+json": {
       "version_major": 2,
       "version_minor": 0,
       "model_id": "bbd6a8652d574ac4be0d01a1b347bc37"
      }
     },
     "metadata": {},
     "output_type": "display_data"
    },
    {
     "name": "stderr",
     "output_type": "stream",
     "text": [
      "Special tokens have been added in the vocabulary, make sure the associated word embeddings are fine-tuned or trained.\n"
     ]
    },
    {
     "ename": "TypeError",
     "evalue": "can only concatenate str (not \"tuple\") to str",
     "output_type": "error",
     "traceback": [
      "\u001B[1;31m---------------------------------------------------------------------------\u001B[0m",
      "\u001B[1;31mTypeError\u001B[0m                                 Traceback (most recent call last)",
      "Cell \u001B[1;32mIn[11], line 59\u001B[0m\n\u001B[0;32m     57\u001B[0m busted_contexts \u001B[38;5;241m=\u001B[39m []\n\u001B[0;32m     58\u001B[0m \u001B[38;5;28;01mfor\u001B[39;00m i \u001B[38;5;129;01min\u001B[39;00m \u001B[38;5;28mrange\u001B[39m(\u001B[38;5;28mlen\u001B[39m(context_summaries)):\n\u001B[1;32m---> 59\u001B[0m     \u001B[38;5;28mprint\u001B[39m(context_summaries[i]\u001B[38;5;241m+\u001B[39m\u001B[38;5;124m\"\u001B[39m\u001B[38;5;130;01m\\n\u001B[39;00m\u001B[38;5;130;01m\\n\u001B[39;00m\u001B[38;5;124m\"\u001B[39m\u001B[38;5;241m+\u001B[39mfinal_contexts[i])\n\u001B[0;32m     60\u001B[0m     busted_contexts\u001B[38;5;241m.\u001B[39mappend(context_summaries[i]\u001B[38;5;241m+\u001B[39m\u001B[38;5;124m\"\u001B[39m\u001B[38;5;130;01m\\n\u001B[39;00m\u001B[38;5;130;01m\\n\u001B[39;00m\u001B[38;5;124m\"\u001B[39m\u001B[38;5;241m+\u001B[39mfinal_contexts[i])\n\u001B[0;32m     61\u001B[0m \u001B[38;5;66;03m# Вывод контекстов\u001B[39;00m\n",
      "\u001B[1;31mTypeError\u001B[0m: can only concatenate str (not \"tuple\") to str"
     ]
    }
   ],
   "execution_count": 11
  },
  {
   "metadata": {
    "ExecuteTime": {
     "end_time": "2024-12-01T18:29:55.048675900Z",
     "start_time": "2024-12-01T18:25:44.948966Z"
    }
   },
   "cell_type": "code",
   "source": "",
   "id": "f3f1d7af1abd398f",
   "outputs": [],
   "execution_count": null
  },
  {
   "metadata": {
    "ExecuteTime": {
     "end_time": "2024-12-01T18:25:44.972767Z",
     "start_time": "2024-12-01T18:25:44.971023Z"
    }
   },
   "cell_type": "code",
   "source": "",
   "id": "998f7027327d954a",
   "outputs": [],
   "execution_count": null
  },
  {
   "metadata": {},
   "cell_type": "code",
   "outputs": [],
   "execution_count": null,
   "source": "",
   "id": "bf718f15eb5cf74c"
  }
 ],
 "metadata": {
  "kernelspec": {
   "display_name": "Python 3",
   "language": "python",
   "name": "python3"
  },
  "language_info": {
   "codemirror_mode": {
    "name": "ipython",
    "version": 2
   },
   "file_extension": ".py",
   "mimetype": "text/x-python",
   "name": "python",
   "nbconvert_exporter": "python",
   "pygments_lexer": "ipython2",
   "version": "2.7.6"
  }
 },
 "nbformat": 4,
 "nbformat_minor": 5
}
